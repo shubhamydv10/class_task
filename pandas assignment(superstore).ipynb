{
 "cells": [
  {
   "cell_type": "code",
   "execution_count": 2,
   "id": "d36db265",
   "metadata": {},
   "outputs": [],
   "source": [
    "#task 2 - Superstore_USA\n",
    "#1. load this data in sql and in pandas with a relation in sql \n",
    "#2 . while loading this data you dont have to create a table manually you can use any automated approach to create a table and load a data in bulk in table \n",
    "#3 . Find out how return that we ahve recived and with a product id \n",
    "#4 . try  to join order and return data both in sql and pandas \n",
    "#5 . Try to find out how many unique customer that we have \n",
    "#6 . try to find out in how many regions we are selling a product and who is a manager for a respective region \n",
    "#7 . find out how many different differnet shipement mode that we have and what is a percentage usablity of all the shipment mode with respect to dataset \n",
    "#8 . Create a new coulmn and try to find our a diffrence between order date and shipment date\n",
    "#9 . base on question number 8 find out for which order id we have shipment duration more than 10 days \n",
    "#10 . Try to find out a list of a returned order which sihpment duration was more then 15 days and find out that region manager as well \n",
    "#11 . Gorup by region and find out which region is more profitable \n",
    "#12 . Try to find out overalll in which country we are giving more didscount \n",
    "#13 . Give me a list of unique postal code \n",
    "#14 . which customer segement is more profitalble find it out . \n",
    "#15 . try to find out the 10th most loss making product catagory . \n",
    "#16 . Try to find out 10 top  product with highest margins "
   ]
  },
  {
   "cell_type": "code",
   "execution_count": null,
   "id": "ecad0474",
   "metadata": {},
   "outputs": [],
   "source": []
  }
 ],
 "metadata": {
  "kernelspec": {
   "display_name": "Python 3 (ipykernel)",
   "language": "python",
   "name": "python3"
  },
  "language_info": {
   "codemirror_mode": {
    "name": "ipython",
    "version": 3
   },
   "file_extension": ".py",
   "mimetype": "text/x-python",
   "name": "python",
   "nbconvert_exporter": "python",
   "pygments_lexer": "ipython3",
   "version": "3.9.12"
  }
 },
 "nbformat": 4,
 "nbformat_minor": 5
}
